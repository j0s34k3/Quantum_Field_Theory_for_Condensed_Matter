{
 "cells": [
  {
   "cell_type": "code",
   "execution_count": null,
   "id": "dde3c461",
   "metadata": {},
   "outputs": [],
   "source": [
    "# BdG solver (1D, s-wave, mean-field self-consistent)\n",
    "using LinearAlgebra, Plots, LaTeXStrings, Statistics, Random # Necessary packages\n",
    "# Run in Google Colab if Julia is not locally installed"
   ]
  },
  {
   "cell_type": "code",
   "execution_count": 3,
   "id": "42aac2de",
   "metadata": {},
   "outputs": [
    {
     "data": {
      "text/plain": [
       "build_BdG_hamiltonian (generic function with 1 method)"
      ]
     },
     "metadata": {},
     "output_type": "display_data"
    }
   ],
   "source": [
    "# 1. Assemble the BdG Hamiltonian from its components\n",
    "\n",
    "# Build kinetic (tight-binding) Hamiltonian with open boundary conditions\n",
    "function build_kinetic(N_sites::Int, t::Float64)\n",
    "    # Compact form for a tridiagonal matrix (OBC)\n",
    "    return -t * diagm(1 => ones(N_sites-1), -1 => ones(N_sites-1))\n",
    "end\n",
    "\n",
    "function build_BdG_hamiltonian(h_kinetic, μ, Δ)\n",
    "    N_sites = size(h_kinetic, 1)\n",
    "    Id = I(N_sites)\n",
    "    H11 = h_kinetic .- μ .* Id\n",
    "    \n",
    "    # Assemble using Julia's block matrix syntax for clarity\n",
    "    H = [ Matrix(H11)      Diagonal(Δ);\n",
    "          Diagonal(conj.(Δ))  -Matrix(H11) ]\n",
    "    return H\n",
    "end"
   ]
  },
  {
   "cell_type": "code",
   "execution_count": null,
   "id": "5dba5206",
   "metadata": {},
   "outputs": [
    {
     "data": {
      "text/plain": [
       "update_delta (generic function with 1 method)"
      ]
     },
     "metadata": {},
     "output_type": "display_data"
    }
   ],
   "source": [
    "# 2. Compute the new order parameter from the eigenstates (corrected BdG formulation)\n",
    "function update_delta(vals, vecs, N_sites, g, T)\n",
    "    Δ_new = zeros(ComplexF64, N_sites)\n",
    "    \n",
    "    # At T=0: sum only over negative energy states (occupied)\n",
    "    # The key is: Δ_i = -g * Σ_{E_n<0} u_n(i) * v_n*(i)\n",
    "    @inbounds for n in 1:length(vals)\n",
    "        E_n = vals[n]\n",
    "        \n",
    "        # At T=0, only negative energy states are occupied\n",
    "        if T == 0.0\n",
    "            if E_n >= 0.0\n",
    "                continue  # Skip positive energy states\n",
    "            end\n",
    "            weight = 1.0\n",
    "        else\n",
    "            # At finite T, use Fermi-Dirac distribution\n",
    "            f_n = 1.0 / (exp(E_n/T) + 1.0)\n",
    "            if f_n < 1e-12\n",
    "                continue\n",
    "            end\n",
    "            weight = f_n\n",
    "        end\n",
    "        \n",
    "        # Extract u and v components for site i\n",
    "        # Accumulate contribution: \n",
    "        \n",
    "        psi = @view vecs[:, n]               \n",
    "        @inbounds for i in 1:N_sites\n",
    "            Δ_new[i] += weight * psi[i] * conj(psi[N_sites + i])\n",
    "        end\n",
    "\n",
    "    end\n",
    "    \n",
    "    # Apply coupling constant: Δ_i = -g * Σ u*v\n",
    "    return -g .* Δ_new\n",
    "end"
   ]
  },
  {
   "cell_type": "code",
   "execution_count": null,
   "id": "2ccd1941",
   "metadata": {},
   "outputs": [
    {
     "data": {
      "text/plain": [
       "solve_BdG (generic function with 1 method)"
      ]
     },
     "metadata": {},
     "output_type": "display_data"
    }
   ],
   "source": [
    "# --- Main self-consistent solver ---\n",
    "function solve_BdG(N_sites::Int;\n",
    "                            t::Float64=1.0, # hopping\n",
    "                            Δ_init::Vector{ComplexF64}= ones(ComplexF64, N_sites), # initial guess (small!)\n",
    "                            μ::Float64=0.0, # chemical potential\n",
    "                            g::Float64=1.0, # interaction strength\n",
    "                            T::Float64=0.0, # temperature\n",
    "                            tol::Float64=1e-8,\n",
    "                            iterations::Int=200,\n",
    "                            mix::Float64=0.2)\n",
    "\n",
    "    h_kinetic = build_kinetic(N_sites, t) # Kinetic Hamiltonian\n",
    "    Δ = copy(Δ_init) # Current order parameter\n",
    "    Δ_new = similar(Δ) # New order parameter\n",
    "    \n",
    "    # Initialize eigenvalues and eigenvectors\n",
    "    vals = zeros(Float64, 2*N_sites)\n",
    "    vecs = zeros(ComplexF64, 2*N_sites, 2*N_sites)\n",
    "    err = 0.0\n",
    "\n",
    "    @inbounds for it in 1:iterations # Self-consistency loop\n",
    "        # Build and diagonalize BdG Hamiltonian\n",
    "        H = build_BdG_hamiltonian(h_kinetic, μ, Δ)\n",
    "        vals, vecs = eigen(Hermitian(H)).values, eigen(Hermitian(H)).vectors  # preferible separar para no llamar dos veces\n",
    "\n",
    "        # Compute new order parameter\n",
    "        Δ_new = update_delta(vals, vecs, N_sites, g, T)\n",
    "\n",
    "        # Check convergence\n",
    "        err = maximum(abs.(Δ_new .- Δ))\n",
    "\n",
    "        # Mixing for stability\n",
    "        Δ = mix .* Δ_new .+ (1.0 - mix) .* Δ\n",
    "        \n",
    "        if err < tol\n",
    "            println(\"Converged in $it iterations (err = $err)\")\n",
    "            return Δ, vals, vecs\n",
    "        end\n",
    "    end\n",
    "\n",
    "    @warn \"No convergence after $iterations iterations; last err = $err\"\n",
    "    return Δ, vals, vecs\n",
    "end"
   ]
  },
  {
   "cell_type": "code",
   "execution_count": null,
   "id": "12b82b9d",
   "metadata": {},
   "outputs": [
    {
     "data": {
      "text/plain": [
       "compute_average_gap (generic function with 1 method)"
      ]
     },
     "metadata": {},
     "output_type": "display_data"
    }
   ],
   "source": [
    "function plot_delta_profile(Δ::Vector{ComplexF64}, N_sites::Int64, g::Float64, T::Float64) # Plot and save the gap profile\n",
    "    plt1 = plot(abs.(Δ), xlabel=L\"$i$ site \", ylabel=L\"\\left| \\Delta_i \\right|\", title = L\"BdG Gap profile ($N$ =%$(N_sites), $g$=%$(g), $T$=%$(T))\" ,        legend=false, lw=2, color=:blue, grid=false)\n",
    "    savefig(plt1, \"BdG_gap_profile.png\")\n",
    "    println(\"Saved gap profile: BdG_gap_profile.png\")\n",
    "end\n",
    "\n",
    "# Compute average gap excluding boundary effects\n",
    "function compute_average_gap(Δ::Vector{ComplexF64}; boundary_exclude::Int=10)\n",
    "    N = length(Δ)\n",
    "    if N <= 2*boundary_exclude\n",
    "        return mean(abs.(Δ))\n",
    "    else\n",
    "        # Exclude boundary sites\n",
    "        return mean(abs.(Δ[boundary_exclude+1:N-boundary_exclude]))\n",
    "    end\n",
    "end"
   ]
  },
  {
   "cell_type": "code",
   "execution_count": null,
   "id": "241d4447",
   "metadata": {},
   "outputs": [
    {
     "data": {
      "text/plain": [
       "BdG_demo (generic function with 1 method)"
      ]
     },
     "metadata": {},
     "output_type": "display_data"
    }
   ],
   "source": [
    "# Small demo: run solver, plot Δ profile and spectrum\n",
    "function BdG_demo()\n",
    "    N_sites = 180\n",
    "    t = 1.0\n",
    "    μ = -1.0    # CRITICAL: at half-filling for maximum DOS (Density of states) at Fermi level\n",
    "    g = 2.5    # Moderate coupling (must be > g_critical ~ 1.0)\n",
    "    T = 0.0    # T=0 demo\n",
    "\n",
    "    println(\"Running BdG self-consistent solver (N_sites=$N_sites, g=$g, T=$T, μ=$μ)\")    \n",
    "    # Initial guess: small uniform value with noise to break symmetry\n",
    "    Random.seed!(42)\n",
    "    Δ_init = 0.1* ones(ComplexF64, N_sites) .+ 0.01*randn(ComplexF64, N_sites)\n",
    "\n",
    "    Δ, vals, vecs = solve_BdG(N_sites; t=t, μ=μ, g=g, T=T, Δ_init=Δ_init, # Function to solve BdG\n",
    "                              tol=1e-6, mix=0.2, iterations=100)\n",
    "    \n",
    "    plot_delta_profile(Δ, N_sites, g, T) # Plot and save gap profile\n",
    "    \n",
    "    return Δ, vals, vecs\n",
    "end"
   ]
  },
  {
   "cell_type": "code",
   "execution_count": 8,
   "id": "8919d2fe",
   "metadata": {},
   "outputs": [
    {
     "name": "stdout",
     "output_type": "stream",
     "text": [
      "Running BdG self-consistent solver (N_sites=180, g=2.5, T=0.0, μ=-1.0)\n"
     ]
    },
    {
     "name": "stderr",
     "output_type": "stream",
     "text": [
      "┌ Warning: No convergence after 100 iterations; last err = 0.00021294466793682855\n",
      "└ @ Main /home/joseangel/Documents/Areas/Cursos_Maestria/2026-1/QFT_MatCon/Tareas_Extra/Bogoliubov_de_Gennes/jl_notebook_cell_df34fa98e69747e1a8f8a730347b8e2f_W3sZmlsZQ==.jl:41\n"
     ]
    },
    {
     "name": "stdout",
     "output_type": "stream",
     "text": [
      "Saved gap profile: BdG_gap_profile.png\n"
     ]
    },
    {
     "data": {
      "text/plain": [
       "(ComplexF64[0.7686234888865895 - 0.014223383623696021im, 0.6936116184840418 - 0.012595369133093552im, 0.6251949648939916 - 0.010984126490652583im, 0.6539007198505697 - 0.010856952872834691im, 0.6464573577007179 - 0.010091116448370808im, 0.643650145029441 - 0.009363651427238124im, 0.6455116934805788 - 0.008704829767015546im, 0.6447614429403976 - 0.008061499581738225im, 0.644656481861924 - 0.007502604481609613im, 0.6447891637195691 - 0.007041433739996355im  …  0.6447817001117722 + 0.007665645725186751im, 0.6446546100971543 + 0.00763350338863644im, 0.6447652684944171 + 0.007724468233570217im, 0.6455213582482819 + 0.007936726734227196im, 0.6436656530280661 + 0.008217324564339629im, 0.6464784797795207 + 0.008627477145729777im, 0.6539270402813938 + 0.009134278427993098im, 0.6252245167009058 + 0.009147866249263456im, 0.693647338002078 + 0.010444361050628338im, 0.7686649586160484 + 0.011768901695492731im], [-3.0682069046518587, -3.067325131079838, -3.0658556793142906, -3.0637991909099322, -3.0611561398908944, -3.057927432792696, -3.054114004595722, -3.049717086755067, -3.0447380930215533, -3.039178520863282  …  3.0391785208632807, 3.0447380930215515, 3.049717086755066, 3.0541140045957205, 3.0579274327926944, 3.0611561398908926, 3.0637991909099314, 3.0658556793142884, 3.0673251310798357, 3.068206904651856], ComplexF64[-0.0002517058511958441 + 4.7995059716382394e-6im -0.0005034756818561257 + 9.600337185854324e-6im … -0.003822692544435491 - 6.050306646018696e-5im 0.0019116918062909308 + 3.0256588931449133e-5im; 0.00044554581208506157 - 8.300872295392646e-6im 0.0008907440598771792 - 1.659544383033488e-5im … 0.007515679425698076 + 0.00011890195342159029im -0.0037602643171171057 - 5.948853768343175e-5im; … ; 0.0037613236254494887 - 1.8812411694654213e-8im -0.007516033968077749 + 3.7614302478290566e-8im … 0.0008908291619007218 + 2.855744675505097e-7im 0.000445692881808139 + 1.428711479710771e-7im; -0.001912230543509918 - 0.0im 0.003822873259742821 - 0.0im … -0.0005035278971309029 - 0.0im -0.00025179099313608856 - 0.0im])"
      ]
     },
     "metadata": {},
     "output_type": "display_data"
    }
   ],
   "source": [
    "BdG_demo()"
   ]
  },
  {
   "cell_type": "markdown",
   "id": "f93855bf",
   "metadata": {},
   "source": [
    "## Transición de fase superconductora\n",
    "\n",
    "A continuación calculamos el parámetro de orden promedio $\\langle |\\Delta| \\rangle$ como función de la temperatura para observar la **transición de fase superconductora**.\n",
    "\n",
    "### Física esperada:\n",
    "- A **T = 0**: $\\Delta \\neq 0$ (fase superconductora)\n",
    "- A **T > Tc**: $\\Delta \\to 0$ (fase normal)\n",
    "- La transición es de **segundo orden** (continua)\n",
    "\n",
    "### Implementación:\n",
    "- **Warm start**: Usamos la solución a temperatura $T_i$ como condición inicial para $T_{i+1}$\n",
    "- Esto acelera la convergencia y mejora la estabilidad\n",
    "- También hay versión **paralela** disponible (más rápida, sin warm start)\n",
    "- El código usa correctamente la distribución de **Fermi-Dirac**:\n",
    " $$f(E) = \\frac{1}{e^{E/T} + 1}$$\n",
    "\n",
    "A T=0 solo suma estados ocupados (E<0), a T>0 suma todos con peso $f(E)$."
   ]
  },
  {
   "cell_type": "code",
   "execution_count": 9,
   "id": "7603e3e2",
   "metadata": {},
   "outputs": [
    {
     "data": {
      "text/plain": [
       "compute_multiple_gaps (generic function with 1 method)"
      ]
     },
     "metadata": {},
     "output_type": "display_data"
    }
   ],
   "source": [
    "# Compute phase transition: scan temperature and measure average gap\n",
    "function compute_multiple_gaps(temperatures; N_sites::Int=180, t::Float64=1.0, \n",
    "                               μ::Float64=0.0, g::Float64=1.0, tol::Float64=1e-6, \n",
    "                               iterations::Int=100, mix::Float64=0.2,\n",
    "                               threshold::Float64=1e-3)\n",
    "                                   \n",
    "    average_gaps = zeros(Float64, length(temperatures))\n",
    "    \n",
    "    Random.seed!(42)\n",
    "    Δ_seed = 0.1 .* ones(ComplexF64, N_sites) .+ 0.01*randn(ComplexF64, N_sites) \n",
    "\n",
    "    for (i, T) in enumerate(temperatures) \n",
    "        # Solve BdG at this temperature\n",
    "        Δ, vals, vecs = solve_BdG(N_sites; t=t, μ=μ, g=g, T=T, Δ_init=Δ_seed,\n",
    "                                   tol=tol, iterations=iterations, mix=mix)\n",
    "        \n",
    "        # Compute average gap (excluding boundaries)\n",
    "        average_gaps[i] = compute_average_gap(Δ)\n",
    "\n",
    "        # Warm start: use converged solution as seed for next temperature\n",
    "        Δ_seed = copy(Δ)\n",
    "    end\n",
    "\n",
    "    # Determine Tc: first temperature where <Δ> drops below threshold\n",
    "    Tc_index = findfirst(x -> x <= threshold, average_gaps)\n",
    "    Tc = Tc_index === nothing ? temperatures[end] : temperatures[Tc_index]\n",
    "\n",
    "    return average_gaps, Tc\n",
    "end"
   ]
  },
  {
   "cell_type": "code",
   "execution_count": null,
   "id": "438c111d",
   "metadata": {},
   "outputs": [],
   "source": [
    "# Plot phase transition results\n",
    "function plot_phase_transitions(temperatures, average_gaps, Tc, g, N_sites)\n",
    "    plt = plot(temperatures, average_gaps, \n",
    "               ylabel=L\"\\langle |\\Delta| \\rangle\", \n",
    "               xlabel=L\"T / t\", \n",
    "               title=\"Superconducting Phase Transition (g=$g, N=$N_sites)\",\n",
    "               label=\"BdG mean-field\",\n",
    "               lw=2, color=:blue, grid=true,\n",
    "               marker=:circle, markersize=3)\n",
    "\n",
    "    # Marcar Tc\n",
    "    vline!([Tc], label=\"Tc ≈ $(round(Tc, digits=3))\", linestyle=:dash, color=:red, lw=2)\n",
    "\n",
    "    savefig(plt, \"phase_transition.png\")\n",
    "    println(\"Saved: phase_transition.png\")\n",
    "    return plt\n",
    "end"
   ]
  },
  {
   "cell_type": "code",
   "execution_count": null,
   "id": "82e65fa6",
   "metadata": {},
   "outputs": [
    {
     "data": {
      "text/plain": [
       "compute_phase_transition (generic function with 1 method)"
      ]
     },
     "metadata": {},
     "output_type": "display_data"
    }
   ],
   "source": [
    "# Function wrapper that computes and plots the phase transition\n",
    "function compute_phase_transition(temperatures; N_sites::Int=180, t::Float64=1.0, \n",
    "                                  μ::Float64=-1.0, g::Float64=1.0, tol::Float64=1e-5, \n",
    "                                  iterations::Int=100, mix::Float64=0.2,\n",
    "                                  threshold::Float64=1e-3)\n",
    "                                   \n",
    "    average_gaps, Tc = compute_multiple_gaps(temperatures; N_sites=N_sites, t=t, μ=μ, \n",
    "                                             g=g, tol=tol, iterations=iterations, \n",
    "                                             mix=mix, threshold=threshold)\n",
    "    \n",
    "    plt = plot_phase_transitions(temperatures, average_gaps, Tc, g, N_sites)\n",
    "    \n",
    "    return average_gaps, Tc, plt\n",
    "end"
   ]
  },
  {
   "cell_type": "code",
   "execution_count": null,
   "id": "3d8e5027",
   "metadata": {},
   "outputs": [
    {
     "name": "stderr",
     "output_type": "stream",
     "text": [
      "┌ Warning: No convergence after 500 iterations; last err = 2.0893420941955366e-5\n",
      "└ @ Main /home/joseangel/Documents/Areas/Cursos_Maestria/2026-1/QFT_MatCon/Tareas_Extra/Bogoliubov_de_Gennes/jl_notebook_cell_df34fa98e69747e1a8f8a730347b8e2f_W3sZmlsZQ==.jl:41\n",
      "┌ Warning: No convergence after 500 iterations; last err = 9.979477386802922e-6\n",
      "└ @ Main /home/joseangel/Documents/Areas/Cursos_Maestria/2026-1/QFT_MatCon/Tareas_Extra/Bogoliubov_de_Gennes/jl_notebook_cell_df34fa98e69747e1a8f8a730347b8e2f_W3sZmlsZQ==.jl:41\n",
      "┌ Warning: No convergence after 500 iterations; last err = 6.823489563587593e-6\n",
      "└ @ Main /home/joseangel/Documents/Areas/Cursos_Maestria/2026-1/QFT_MatCon/Tareas_Extra/Bogoliubov_de_Gennes/jl_notebook_cell_df34fa98e69747e1a8f8a730347b8e2f_W3sZmlsZQ==.jl:41\n",
      "┌ Warning: No convergence after 500 iterations; last err = 4.827907104625868e-6\n",
      "└ @ Main /home/joseangel/Documents/Areas/Cursos_Maestria/2026-1/QFT_MatCon/Tareas_Extra/Bogoliubov_de_Gennes/jl_notebook_cell_df34fa98e69747e1a8f8a730347b8e2f_W3sZmlsZQ==.jl:41\n",
      "┌ Warning: No convergence after 500 iterations; last err = 3.5946331582126752e-6\n",
      "└ @ Main /home/joseangel/Documents/Areas/Cursos_Maestria/2026-1/QFT_MatCon/Tareas_Extra/Bogoliubov_de_Gennes/jl_notebook_cell_df34fa98e69747e1a8f8a730347b8e2f_W3sZmlsZQ==.jl:41\n",
      "┌ Warning: No convergence after 500 iterations; last err = 2.8059746952855417e-6\n",
      "└ @ Main /home/joseangel/Documents/Areas/Cursos_Maestria/2026-1/QFT_MatCon/Tareas_Extra/Bogoliubov_de_Gennes/jl_notebook_cell_df34fa98e69747e1a8f8a730347b8e2f_W3sZmlsZQ==.jl:41\n",
      "┌ Warning: No convergence after 500 iterations; last err = 2.2833681807308948e-6\n",
      "└ @ Main /home/joseangel/Documents/Areas/Cursos_Maestria/2026-1/QFT_MatCon/Tareas_Extra/Bogoliubov_de_Gennes/jl_notebook_cell_df34fa98e69747e1a8f8a730347b8e2f_W3sZmlsZQ==.jl:41\n",
      "┌ Warning: No convergence after 500 iterations; last err = 1.922021101142975e-6\n",
      "└ @ Main /home/joseangel/Documents/Areas/Cursos_Maestria/2026-1/QFT_MatCon/Tareas_Extra/Bogoliubov_de_Gennes/jl_notebook_cell_df34fa98e69747e1a8f8a730347b8e2f_W3sZmlsZQ==.jl:41\n",
      "┌ Warning: No convergence after 500 iterations; last err = 1.8609751571251422e-6\n",
      "└ @ Main /home/joseangel/Documents/Areas/Cursos_Maestria/2026-1/QFT_MatCon/Tareas_Extra/Bogoliubov_de_Gennes/jl_notebook_cell_df34fa98e69747e1a8f8a730347b8e2f_W3sZmlsZQ==.jl:41\n",
      "┌ Warning: No convergence after 500 iterations; last err = 1.7591862751705498e-6\n",
      "└ @ Main /home/joseangel/Documents/Areas/Cursos_Maestria/2026-1/QFT_MatCon/Tareas_Extra/Bogoliubov_de_Gennes/jl_notebook_cell_df34fa98e69747e1a8f8a730347b8e2f_W3sZmlsZQ==.jl:41\n",
      "┌ Warning: No convergence after 500 iterations; last err = 1.606551312926392e-6\n",
      "└ @ Main /home/joseangel/Documents/Areas/Cursos_Maestria/2026-1/QFT_MatCon/Tareas_Extra/Bogoliubov_de_Gennes/jl_notebook_cell_df34fa98e69747e1a8f8a730347b8e2f_W3sZmlsZQ==.jl:41\n",
      "┌ Warning: No convergence after 500 iterations; last err = 1.4190590820849465e-6\n",
      "└ @ Main /home/joseangel/Documents/Areas/Cursos_Maestria/2026-1/QFT_MatCon/Tareas_Extra/Bogoliubov_de_Gennes/jl_notebook_cell_df34fa98e69747e1a8f8a730347b8e2f_W3sZmlsZQ==.jl:41\n",
      "┌ Warning: No convergence after 500 iterations; last err = 1.1992432687646259e-6\n",
      "└ @ Main /home/joseangel/Documents/Areas/Cursos_Maestria/2026-1/QFT_MatCon/Tareas_Extra/Bogoliubov_de_Gennes/jl_notebook_cell_df34fa98e69747e1a8f8a730347b8e2f_W3sZmlsZQ==.jl:41\n"
     ]
    },
    {
     "name": "stdout",
     "output_type": "stream",
     "text": [
      "Converged in 326 iterations (err = 9.833665643023607e-7)\n"
     ]
    },
    {
     "name": "stderr",
     "output_type": "stream",
     "text": [
      "┌ Warning: No convergence after 500 iterations; last err = 4.9917390258057054e-5\n",
      "└ @ Main /home/joseangel/Documents/Areas/Cursos_Maestria/2026-1/QFT_MatCon/Tareas_Extra/Bogoliubov_de_Gennes/jl_notebook_cell_df34fa98e69747e1a8f8a730347b8e2f_W3sZmlsZQ==.jl:41\n",
      "┌ Warning: No convergence after 500 iterations; last err = 0.000357260757914571\n",
      "└ @ Main /home/joseangel/Documents/Areas/Cursos_Maestria/2026-1/QFT_MatCon/Tareas_Extra/Bogoliubov_de_Gennes/jl_notebook_cell_df34fa98e69747e1a8f8a730347b8e2f_W3sZmlsZQ==.jl:41\n",
      "┌ Warning: No convergence after 500 iterations; last err = 4.320595416430902e-5\n",
      "└ @ Main /home/joseangel/Documents/Areas/Cursos_Maestria/2026-1/QFT_MatCon/Tareas_Extra/Bogoliubov_de_Gennes/jl_notebook_cell_df34fa98e69747e1a8f8a730347b8e2f_W3sZmlsZQ==.jl:41\n"
     ]
    },
    {
     "name": "stdout",
     "output_type": "stream",
     "text": [
      "Converged in 238 iterations (err = 9.995089157840893e-7)\n",
      "Converged in 14 iterations (err = 9.999770546624475e-7)\n",
      "Converged in 8 iterations (err = 9.807238087063293e-7)\n",
      "Converged in 5 iterations (err = 9.651147736471476e-7)\n",
      "Converged in 3 iterations (err = 9.729236154609378e-7)\n",
      "Converged in 2 iterations (err = 9.899929586300935e-7)\n",
      "Converged in 2 iterations (err = 9.746101305596578e-7)\n",
      "Converged in 2 iterations (err = 9.328893493381545e-7)\n",
      "Converged in 1 iterations (err = 9.412987557772266e-7)\n",
      "Converged in 1 iterations (err = 9.352612325007616e-7)\n",
      "Converged in 1 iterations (err = 9.167374656564276e-7)\n",
      "Converged in 1 iterations (err = 8.87758688073195e-7)\n",
      "Converged in 1 iterations (err = 8.503417205715432e-7)\n",
      "Converged in 1 iterations (err = 8.0642113709625e-7)\n",
      "Converged in 1 iterations (err = 7.577980482913701e-7)\n",
      "Converged in 1 iterations (err = 7.061042734152078e-7)\n",
      "Converged in 1 iterations (err = 6.527802103345933e-7)\n",
      "Converged in 1 iterations (err = 5.990644093277593e-7)\n",
      "Converged in 1 iterations (err = 5.45992776070842e-7)\n",
      "Converged in 1 iterations (err = 4.944053378696595e-7)\n",
      "Converged in 1 iterations (err = 4.4495862596032485e-7)\n",
      "Converged in 1 iterations (err = 3.981419483425288e-7)\n",
      "Converged in 1 iterations (err = 3.5429602078660996e-7)\n",
      "Converged in 1 iterations (err = 3.1363270411411784e-7)\n",
      "Saved: phase_transition.png\n"
     ]
    },
    {
     "data": {
      "text/plain": [
       "([0.6448112053410937, 0.6448112011425667, 0.644810109588528, 0.6447124324129263, 0.6438204888625226, 0.6406859835763367, 0.6337063593198285, 0.6214532885546694, 0.6026193543618233, 0.5758161041640528  …  6.43945056032946e-9, 5.711086570015802e-9, 5.0419378227844035e-9, 4.431585677205523e-9, 3.878586595095885e-9, 3.3806972523314918e-9, 2.9350778917708767e-9, 2.538471585927775e-9, 2.187358503602496e-9, 1.8780857768873184e-9], 0.4, Plot{Plots.GRBackend() n=2})"
      ]
     },
     "metadata": {},
     "output_type": "display_data"
    }
   ],
   "source": [
    "# Example: compute phase transition for g=2.5\n",
    "temperatures = collect(0.0:0.025:1.0)\n",
    "gaps, Tc, plt = compute_phase_transition(temperatures; N_sites=180, g=2.5, mix=0.3, iterations=100)\n",
    "#Note: Convergence can be slow near Tc due to criteria of threshold; adjust mix and iterations as needed."
   ]
  }
 ],
 "metadata": {
  "kernelspec": {
   "display_name": "Julia 1.12.1",
   "language": "julia",
   "name": "julia-1.12"
  },
  "language_info": {
   "file_extension": ".jl",
   "mimetype": "application/julia",
   "name": "julia",
   "version": "1.12.1"
  }
 },
 "nbformat": 4,
 "nbformat_minor": 5
}
