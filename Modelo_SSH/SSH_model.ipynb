{
 "cells": [
  {
   "cell_type": "code",
   "execution_count": null,
   "id": "9efd9ea8",
   "metadata": {},
   "outputs": [],
   "source": [
    "using LinearAlgebra, Plots, LaTeXStrings # Necessary packages\n",
    "# --- Run in Google Colab if Julia is not locally installed --- #"
   ]
  },
  {
   "cell_type": "code",
   "execution_count": null,
   "id": "ea3ae8c7",
   "metadata": {},
   "outputs": [
    {
     "data": {
      "text/plain": [
       "build_ssh_hamiltonian (generic function with 1 method)"
      ]
     },
     "metadata": {},
     "output_type": "display_data"
    }
   ],
   "source": [
    "function build_ssh_hamiltonian(N_cells::Int, t1::Float64, t2::Float64) # Build the SSH Hamiltonian for a chain with N_cells unit cells\n",
    "    Nsites = 2 * N_cells\n",
    "    H = zeros(Float64, Nsites, Nsites)\n",
    "    # intracell hopping t1 between A_n (2n-1) and B_n (2n)\n",
    "    # intercell hopping t2 between B_n (2n) and A_{n+1} (2n+1)\n",
    "    for n in 1:N_cells\n",
    "        a = 2n - 1\n",
    "        b = 2n\n",
    "        H[a, b] = -t1\n",
    "        H[b, a] = -t1\n",
    "        if n < N_cells\n",
    "            H[b, 2n + 1] = -t2\n",
    "            H[2n + 1, b] = -t2\n",
    "        end\n",
    "    end\n",
    "    return H\n",
    "end"
   ]
  },
  {
   "cell_type": "code",
   "execution_count": null,
   "id": "34216bd3",
   "metadata": {},
   "outputs": [
    {
     "data": {
      "text/plain": [
       "spectrum_and_states (generic function with 1 method)"
      ]
     },
     "metadata": {},
     "output_type": "display_data"
    }
   ],
   "source": [
    "# -------------------------\n",
    "# Diagonalize and utilities\n",
    "# -------------------------\n",
    "function spectrum_and_states(H::AbstractMatrix{T}) where T # Diagonalize Hamiltonian H\n",
    "    vals, vecs = eigen(H)  # vals sorted in ascending order\n",
    "    return vals, vecs\n",
    "end"
   ]
  },
  {
   "cell_type": "code",
   "execution_count": null,
   "id": "e600f913",
   "metadata": {},
   "outputs": [
    {
     "data": {
      "text/plain": [
       "detect_edge_states (generic function with 1 method)"
      ]
     },
     "metadata": {},
     "output_type": "display_data"
    }
   ],
   "source": [
    "# Detect edge-localized states near zero energy\n",
    "function detect_edge_states(vals::AbstractVector{T}, vecs::AbstractMatrix{T}; #Find edge states based on wavefunction localization\n",
    "                            energy_tol::Float64 = 1e-2,\n",
    "                            edge_weight_thresh::Float64 = 0.2,\n",
    "                            edge_size_sites::Int = 2,\n",
    "                            report_energies::Bool = false) where T\n",
    "    # Find eigenstates with a large fraction of probability on the\n",
    "    # first/last `edge_size_sites` sites. This is more robust for finite systems\n",
    "    # where zero-mode energies are not exactly zero.\n",
    "    Nsites = size(vecs, 1) #Declare number of sites from eigenvector matrix\n",
    "    edge_indices = Int[] #Initialize array to hold indices of edge states\n",
    "    edge_energies = Float64[] #Initialize array to hold energies of edge states\n",
    "\n",
    "    for i in 1:length(vals) #Loop over all eigenvalues\n",
    "        psi = vecs[:, i]\n",
    "        p_left = sum(abs2, psi[1: min(edge_size_sites, Nsites)])\n",
    "        p_right = sum(abs2, psi[max(1, Nsites-edge_size_sites+1):Nsites])\n",
    "        if max(p_left, p_right) >= edge_weight_thresh\n",
    "            push!(edge_indices, i)\n",
    "            push!(edge_energies, vals[i])\n",
    "        end\n",
    "    end\n",
    "\n",
    "    if report_energies && !isempty(edge_energies) #Report detected edge-state energies if requested\n",
    "        println(\"Detected edge-state energies: \", round.(edge_energies, sigdigits=6))\n",
    "    end\n",
    "    return unique(edge_indices), length(edge_indices)\n",
    "end"
   ]
  },
  {
   "cell_type": "code",
   "execution_count": null,
   "id": "03f6a8f1",
   "metadata": {},
   "outputs": [
    {
     "data": {
      "text/plain": [
       "sweep_t2_and_plot (generic function with 1 method)"
      ]
     },
     "metadata": {},
     "output_type": "display_data"
    }
   ],
   "source": [
    "# -------------------------\n",
    "# Sweep and plotting\n",
    "# -------------------------\n",
    "function sweep_t2_and_plot(Ncells::Int, t1::Float64; t2_vals = range(0.0, stop=2.0, length=201), # Function to sweep t2 and plot results\n",
    "                          energy_tol = 1e-3)\n",
    "    # Inialize lists for storing all energies and corresponding t_2/t1\n",
    "    all_energies = Float64[]\n",
    "    all_t2_over_t1 = Float64[]\n",
    "    edge_counts = Int[]\n",
    "    \n",
    "    for t2 in t2_vals # Loop over t2 values\n",
    "        H = build_ssh_hamiltonian(Ncells, t1, t2) # Build Hamiltonian\n",
    "        vals, vecs = spectrum_and_states(H) # Diagonalize\n",
    "        \n",
    "        # Store all energies and corresponding t2/t1\n",
    "        append!(all_energies, vals)\n",
    "        append!(all_t2_over_t1, fill(t2 / t1, length(vals)))\n",
    "\n",
    "        # Compute edge states\n",
    "        _, cnt = detect_edge_states(vals, vecs; energy_tol=energy_tol)\n",
    "        push!(edge_counts, cnt)\n",
    "    end\n",
    "    \n",
    "    # Plot full spectrum vs t2/t1\n",
    "    plt = scatter(all_t2_over_t1, all_energies, \n",
    "                  xlabel = L\"t_2/t_1\", ylabel = L\"E\", \n",
    "                  title = L\"SSH Energies vs $t_2/t_1$ ($t_1$=%$(t1), Num. Cells=%$(Ncells))\", \n",
    "                  legend=false, markersize=1, markerstrokewidth=0, \n",
    "                  color=:blue, alpha=0.5)\n",
    "    savefig(plt, \"ssh_full_spectrum_vs_t2.png\")\n",
    "    \n",
    "    # Plot edge count vs t2/t1\n",
    "    # Plot edge count vs t2/t1 (Just for t2 > 0)\n",
    "    mask = t2_vals .> 0  # Boolean mask for t2 > 0\n",
    "    plt2 = plot((t2_vals ./ t1)[mask], edge_counts[mask], seriestype=:steppre, xlabel=L\"t_2/t_1\", ylabel=\"# edge states\",\n",
    "                title = L\"Num. of Edge States vs $t_2/t_1$ ($t_2$ > 0)\", ylim = (-0.2, 4.2), legend=false)\n",
    "    savefig(plt2, \"ssh_edgecount_vs_t2.png\")\n",
    "    \n",
    "    return t2_vals, all_energies, edge_counts\n",
    "end"
   ]
  },
  {
   "cell_type": "code",
   "execution_count": 51,
   "id": "4082aa15",
   "metadata": {},
   "outputs": [
    {
     "data": {
      "text/plain": [
       "main (generic function with 1 method)"
      ]
     },
     "metadata": {},
     "output_type": "display_data"
    }
   ],
   "source": [
    "# -------------------------\n",
    "# Main demo runner\n",
    "# -------------------------\n",
    "function main()\n",
    "    println(\"SSH OBC demo: construyendo y analizando espectros...\")\n",
    "    Ncells = 20\n",
    "    t1 = 1.0\n",
    "    t2_vals = range(0.0, stop=2.0, length=301)\n",
    "    t2_vals, all_energies, edge_counts = sweep_t2_and_plot(Ncells, t1; t2_vals=t2_vals, energy_tol=1e-3)\n",
    "    println(\"Guardadas figuras: ssh_full_spectrum_vs_t2.png y ssh_edgecount_vs_t2.png\")\n",
    "\n",
    "end\n"
   ]
  },
  {
   "cell_type": "code",
   "execution_count": 52,
   "id": "9a2106fa",
   "metadata": {},
   "outputs": [
    {
     "name": "stdout",
     "output_type": "stream",
     "text": [
      "SSH OBC demo: construyendo y analizando espectros...\n",
      "Guardadas figuras: ssh_full_spectrum_vs_t2.png y ssh_edgecount_vs_t2.png\n"
     ]
    }
   ],
   "source": [
    "main()"
   ]
  },
  {
   "cell_type": "code",
   "execution_count": 17,
   "id": "e3d26b42",
   "metadata": {},
   "outputs": [],
   "source": []
  },
  {
   "cell_type": "code",
   "execution_count": null,
   "id": "c0b2bdf0",
   "metadata": {},
   "outputs": [],
   "source": []
  }
 ],
 "metadata": {
  "kernelspec": {
   "display_name": "Julia 1.11.7",
   "language": "julia",
   "name": "julia-1.11"
  },
  "language_info": {
   "file_extension": ".jl",
   "mimetype": "application/julia",
   "name": "julia",
   "version": "1.11.7"
  }
 },
 "nbformat": 4,
 "nbformat_minor": 5
}
